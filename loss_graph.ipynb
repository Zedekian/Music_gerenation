{
 "cells": [
  {
   "cell_type": "code",
   "execution_count": null,
   "metadata": {},
   "outputs": [],
   "source": [
    "import re\n",
    "\n",
    "# 讀取文本檔案\n",
    "with open('./loss.txt', 'r') as file:\n",
    "    text = file.read()\n",
    "\n",
    "# 使用正則表達式匹配損失值\n",
    "loss_pattern = r'loss: (\\d+\\.\\d+)'\n",
    "loss_values = re.findall(loss_pattern, text)\n",
    "\n",
    "# 將損失值轉換為浮點數列表\n",
    "loss_values = [float(loss) for loss in loss_values]\n",
    "\n",
    "# 打印損失值\n",
    "# for epoch, loss in enumerate(loss_values, 1):\n",
    "#     print(f\"Epoch: {epoch} - Loss: {loss}\")\n",
    "\n",
    "# 讀取文本檔案\n",
    "with open('./original_version/original_loss.txt', 'r') as file:\n",
    "    text_o = file.read()\n",
    "\n",
    "# 使用正則表達式匹配損失值\n",
    "loss_pattern = r'loss: (\\d+\\.\\d+)'\n",
    "loss_values_o = re.findall(loss_pattern, text_o)\n",
    "\n",
    "# 將損失值轉換為浮點數列表\n",
    "loss_values_o = [float(loss) for loss in loss_values_o]\n"
   ]
  },
  {
   "cell_type": "code",
   "execution_count": null,
   "metadata": {},
   "outputs": [],
   "source": [
    "avg_loss = sum(loss_values) / len(loss_values)\n",
    "print('Average loss: ',avg_loss)"
   ]
  },
  {
   "cell_type": "code",
   "execution_count": null,
   "metadata": {},
   "outputs": [],
   "source": [
    "import matplotlib.pyplot as plt\n",
    "\n",
    "# 繪製損失曲線\n",
    "epochs = range(1, len(loss_values) + 1)\n",
    "plt.plot(epochs[:], loss_values[:], 'r', label='Loss')\n",
    "plt.title('Training Loss_800')\n",
    "plt.xlabel('Epochs')\n",
    "plt.ylabel('Loss')\n",
    "plt.legend()\n",
    "#plt.ylim(0, max(max(loss_values), max(loss_values_o)))\n",
    "# 設定x軸範圍從0開始到最大值\n",
    "plt.xlim(0, max(len(loss_values), len(loss_values_o)))\n",
    "plt.show()\n"
   ]
  },
  {
   "cell_type": "code",
   "execution_count": null,
   "metadata": {},
   "outputs": [],
   "source": [
    "import matplotlib.pyplot as plt\n",
    "\n",
    "epochs = range(len(loss_values))\n",
    "epochs_o = range(len(loss_values_o))\n",
    "\n",
    "plt.plot(epochs[:80], loss_values[:80], 'r', label='Loss')\n",
    "plt.plot(epochs_o[:80], loss_values_o[:80], 'b', label='Original Loss')\n",
    "plt.title('Training Loss Comparison_800')\n",
    "plt.xlabel('Epochs')\n",
    "plt.ylabel('Loss')\n",
    "plt.legend()\n",
    "plt.ylim(0, max(max(loss_values), max(loss_values_o)))\n",
    "# 設定x軸範圍從0開始到最大值\n",
    "plt.xlim(0, max(len(loss_values[:80]), len(loss_values_o[:80])))\n",
    "\n",
    "plt.show()\n"
   ]
  }
 ],
 "metadata": {
  "kernelspec": {
   "display_name": "music_base",
   "language": "python",
   "name": "python3"
  },
  "language_info": {
   "codemirror_mode": {
    "name": "ipython",
    "version": 3
   },
   "file_extension": ".py",
   "mimetype": "text/x-python",
   "name": "python",
   "nbconvert_exporter": "python",
   "pygments_lexer": "ipython3",
   "version": "3.8.16"
  },
  "orig_nbformat": 4
 },
 "nbformat": 4,
 "nbformat_minor": 2
}
