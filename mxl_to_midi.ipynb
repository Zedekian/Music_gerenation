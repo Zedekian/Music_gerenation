{
 "cells": [
  {
   "cell_type": "code",
   "execution_count": 5,
   "metadata": {},
   "outputs": [],
   "source": [
    "from music21 import converter\n",
    "\n",
    "mxl_file_name = 'Alessandro_Cicognini_and_Paul_Weston,_Sammy_Cahn_-_Autumn_in_Rome.mxl'  \n",
    "mxl_file_path_name = '../Wikifonia/'\n",
    "score = converter.parse(mxl_file_path_name + mxl_file_name)\n",
    "\n",
    "midi_file_path_name = './music_files/midi_file/'\n",
    "output_name = midi_file_path_name + mxl_file_name + '.mid'\n",
    "midi_file = score.write('midi', fp=output_name)"
   ]
  }
 ],
 "metadata": {
  "kernelspec": {
   "display_name": "music_base",
   "language": "python",
   "name": "python3"
  },
  "language_info": {
   "codemirror_mode": {
    "name": "ipython",
    "version": 3
   },
   "file_extension": ".py",
   "mimetype": "text/x-python",
   "name": "python",
   "nbconvert_exporter": "python",
   "pygments_lexer": "ipython3",
   "version": "3.8.16"
  },
  "orig_nbformat": 4
 },
 "nbformat": 4,
 "nbformat_minor": 2
}
